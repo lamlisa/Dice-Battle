{
 "cells": [
  {
   "cell_type": "markdown",
   "metadata": {},
   "source": [
    "Lisa LAM and Léane SALAIS"
   ]
  },
  {
   "cell_type": "markdown",
   "metadata": {},
   "source": [
    "## Dice Battle, a game with two players"
   ]
  },
  {
   "cell_type": "markdown",
   "metadata": {},
   "source": [
    "Two players face each other in a dice game. The goal is to be the first to reach at least N points. In every turn, the \n",
    "player choose to throw between 1 and D dices (common six-sided dices). The number of points scored is 1 if the result of one of the dices is 1. Otherwise, it's the sum of the dices.\n",
    "We will study two variants of this game : \n",
    "- sequential variant : the two players play in turn (the first player has then an advantage)\n",
    "- simultaneous variant : the players play at the same time. If they both reach N points or more, it's the player that exceeds the most N points that wins. If both have exactly N points, they are tied.\n",
    "\n",
    "The purpose of this project is to determine an optimal game strategy (and to test this strategy against other strategies). If a player wins, his gain is 1. If he lost, his gain is -1. If the game is tied, his gain is 0. It is therefore a zero-sum game."
   ]
  },
  {
   "cell_type": "code",
   "execution_count": 1,
   "metadata": {},
   "outputs": [],
   "source": [
    "import numpy as np\n",
    "import random\n",
    "import time\n",
    "from pulp import *\n",
    "import matplotlib.pyplot as plt"
   ]
  },
  {
   "cell_type": "markdown",
   "metadata": {},
   "source": [
    "## >>> Strategy class"
   ]
  },
  {
   "cell_type": "markdown",
   "metadata": {},
   "source": [
    "The Strategy class contains the methods shared by both the sequential and simultaneous game. In particular, there is the two methods that allows us to compute some helpful probabilities :\n",
    "- P(d,k) : the probability to obtain k points when throwing d dices (d = 1,...,D)\n",
    "- Q(d,k) : the probability to obtain k points when throwing d dices knowing that we didn't obtain 1"
   ]
  },
  {
   "cell_type": "code",
   "execution_count": 2,
   "metadata": {},
   "outputs": [],
   "source": [
    "class Strategy(object):\n",
    "    \n",
    "    def __init__(self,N,D):\n",
    "        # Game parameters : N is the number of points to reach to win, D is the maximum number of dices \n",
    "        # that a player can throw\n",
    "        self.N = N\n",
    "        self.D = D\n",
    "        \n",
    "        # MQ will contain de Q(d,k)\n",
    "        self.MQ = np.ones((self.D+1,self.N+6*self.D))*np.inf \n",
    "        # MP will contain the P(d,k)\n",
    "        self.MP = np.ones((self.D+1,self.N+6*self.D))*np.inf\n",
    "    \n",
    "    def Q(self,d,k):\n",
    "        \"\"\"\n",
    "        integer*integer -> float\n",
    "        input : d dices and k\n",
    "        output : the probability to obtain k points when throwing d dices\n",
    "                 knowing that we didn't obtain 1\n",
    "        \"\"\"\n",
    "        # base case : unreachable scores\n",
    "        if k < 2*d or k > 6*d:                                 \n",
    "            return 0 \n",
    "        # basic case : one-in-five chance to get 2, 3, 4, 5 or 6 with only one dice\n",
    "        if d == 1:                                             \n",
    "            return 1/5\n",
    "        # returns directly the value if it has already been calculated\n",
    "        if self.MQ[d,k] != np.inf:                              \n",
    "            return self.MQ[d,k]\n",
    "        # else, compute the value and store it in the MQ matrice\n",
    "        p = np.array([self.Q(d-1,k-j) for j in range(2,7)])     \n",
    "        self.MQ[d,k] = np.sum(p)/5\n",
    "        return self.MQ[d,k]\n",
    "\n",
    "    def P(self,d,k):\n",
    "        \"\"\"\n",
    "        integer*integer -> float\n",
    "        input : d dices and k\n",
    "        output : the probability to obtain k points when throwing d dices\n",
    "        \"\"\"\n",
    "        # base case : unreachable scores\n",
    "        if k > 1 and k < 2*d or k > 6*d+1:                      \n",
    "            return 0  \n",
    "        # basic case : the probability to get 1 whatever the number d of dices\n",
    "        if k == 1:                                              \n",
    "            return 1-(5/6)**d    \n",
    "        # returns directly the value if it has already been calculated\n",
    "        if self.MP[d,k] != np.inf:                              \n",
    "            return self.MP[d,k]      \n",
    "        # else, compute the value and store it in the MQ matrice\n",
    "        self.MP[d,k] = (5/6)**d * self.Q(d,k)                   \n",
    "        return self.MP[d,k]\n",
    "    \n",
    "    def allP(self):\n",
    "        \"\"\"\n",
    "        fill the MP matrice\n",
    "        \"\"\"\n",
    "        for k in range (1,self.N+6*self.D):\n",
    "            for d in range(1,self.D+1):\n",
    "                self.MP[d,k] = self.P(d,k)"
   ]
  },
  {
   "cell_type": "markdown",
   "metadata": {},
   "source": [
    "## >>> _Sequential game_"
   ]
  },
  {
   "cell_type": "markdown",
   "metadata": {},
   "source": [
    "Three different strategies : \n",
    "- the blind strategy where the player throws the number of dices that maximizes his expectation of points\n",
    "- the random strategy where the player throws a random number of dices\n",
    "- the optimal strategy where the player adapts his choice sccording to the situation"
   ]
  },
  {
   "cell_type": "code",
   "execution_count": 4,
   "metadata": {},
   "outputs": [],
   "source": [
    "class Sequential(Strategy):\n",
    "    \n",
    "    def __init__(self,N,D):\n",
    "        Strategy.__init__(self,N,D) \n",
    "        \n",
    "        # MEG matrice store the expectations of gain of a player in every situation,\n",
    "        # that is to say, whatever his score is (index i) and whatever his opponent's\n",
    "        # score is (index j)\n",
    "        self.MEG = np.ones((self.N+1,self.N+6*self.D))*np.inf\n",
    "        self.MEG[self.N-1:,:] = 1\n",
    "        self.MEG[:self.N,self.N:] = -1\n",
    "\n",
    "        # star will contain the optimal responses of the players, the responses that maximizes \n",
    "        # the expaectation of gain in every situation\n",
    "        self.star = np.zeros((self.N,self.N)).astype('int')\n",
    "        \n",
    "        # emptyE is True if the MEG matrice has not already been computed, False otherwise\n",
    "        self.emptyE = True\n",
    "        \n",
    "    # ********************* BLIND STRATEGY *********************\n",
    "    \n",
    "    def scoremax(self):\n",
    "        \"\"\"\n",
    "        integer -> integer\n",
    "        input : D is the maximal number of dices that can be thrown in one throw\n",
    "        output : the number of dices between 1 and D that maximizes the \n",
    "                 expectation of points\n",
    "        \"\"\"\n",
    "        d = np.arange(self.D) + 1\n",
    "        ep = 4*d*(5/6)**d + 1 - (5/6)**d\n",
    "        return np.argmax(ep) + 1\n",
    "    \n",
    "    def blind_strategy(self,i,j):\n",
    "        \"\"\" Il suffit alors de toujours jouer la même chose. \"\"\"\n",
    "        return self.scoremax()\n",
    "    \n",
    "    \n",
    "    # ********************* RANDOM STRATEGY *********************\n",
    "    \n",
    "    def random_strategy(self,i,j):\n",
    "        \"\"\"\n",
    "        integer*integer -> integer\n",
    "        input : state (i,j) that corresponds to the situation where the player 1\n",
    "                have i points, player 2 have j points\n",
    "                the state (i,j) is not necessary since it's a random choice that don't\n",
    "                depends on the state but we put it to generalize the way we use the \n",
    "                strategies : it will later be easier to code the simulation of a game\n",
    "        output : a random number of dices\n",
    "        \"\"\"\n",
    "        return random.randint(1,self.D)\n",
    "    \n",
    "    \n",
    "    # ********************* OPTIMAL STRATEGY *********************\n",
    "    \n",
    "    def eg(self,i,j):\n",
    "        \"\"\"\n",
    "        integer*integer -> float\n",
    "        input : state (i,j) that corresponds to the situation where the player 1\n",
    "                have i points, player 2 have j points\n",
    "        output : the expectation of gain of player 1 in this situation   \n",
    "        \"\"\"\n",
    "        # returns directly the value if it has already been calculated\n",
    "        if self.MEG[i,j] != np.inf: \n",
    "            return self.MEG[i,j]                                \n",
    "        mesesp = []                                                              \n",
    "        sesesp = []                         \n",
    "        \n",
    "        # for every choice of d possible\n",
    "        for d in range(1,self.D+1):                             \n",
    "            monesp = 0\n",
    "            sonesp = 0\n",
    "            # compute the expactation of gain (consider every possible score)\n",
    "            # we also look at the opponent expectation of gain\n",
    "            for k in range(1,6*d+1):                            \n",
    "                monesp += self.MP[d,k]* self.eg(j,i+k)          \n",
    "                sonesp += self.MP[d,k] * self.eg(i,j+k) \n",
    "            mesesp.append(-monesp)\n",
    "            sesesp.append(-sonesp)\n",
    "        \n",
    "        # we only retain the maximum expectation\n",
    "        self.MEG[i,j] = np.amax(mesesp)                         \n",
    "        self.star[i,j] = np.argmax(mesesp)+1   \n",
    "        # to save time : symetrical reasoning in the diagonal\n",
    "        self.MEG[j,i] = np.amax(sesesp)                        \n",
    "        self.star[j,i] = np.argmax(sesesp)+1\n",
    "        return self.MEG[i,j]\n",
    "                \n",
    "    def allEG(self):\n",
    "        \"\"\"\n",
    "        compute the MEG matrice\n",
    "        \"\"\"\n",
    "        # compute the MP matrice from the mother class Strategy\n",
    "        self.allP()     \n",
    "        for i in range(self.N-1,-1,-1): \n",
    "            for j in range(self.N-1,-1,-1):\n",
    "                self.eg(i,j)                                    \n",
    "    \n",
    "    def optimal_strategy(self,i,j):\n",
    "        \"\"\"\n",
    "        return the best choice of d considering the situation\n",
    "        \"\"\"\n",
    "        # if the MEG matrice has not already been computed\n",
    "        if self.emptyE:                                         \n",
    "            self.allEG()                              \n",
    "            self.emptyE = False\n",
    "        if i==self.N-1 and j==self.N-1: return 1                \n",
    "        return self.star[i,j]               "
   ]
  },
  {
   "cell_type": "markdown",
   "metadata": {},
   "source": [
    "## >>> _Simultaneous game_"
   ]
  },
  {
   "cell_type": "markdown",
   "metadata": {},
   "source": [
    "For the simultaneous game, we use a linear programming package called PuLP.\n",
    "There are two versions of the game : \n",
    "- a one turn game where the players plays simultaneously juste one time\n",
    "- a general game where they plays simultaneously until N points is reached"
   ]
  },
  {
   "cell_type": "code",
   "execution_count": 5,
   "metadata": {},
   "outputs": [],
   "source": [
    "class Simultaneous(Strategy):\n",
    "    \n",
    "    def __init__(self,N,D):\n",
    "        Strategy.__init__(self,N,D)   \n",
    "     \n",
    "        # p will contain the cum sum of the vector of probability [p1,...,pD] of player 1 \n",
    "        # computed with the linear program : player 1 will throw d dices with probability pd\n",
    "        self.p = np.zeros((self.D))\n",
    "        # emptyE is True if the vector p has not already been computed, False otherwise\n",
    "        self.clear = True\n",
    "        \n",
    "        # MEG matrice store the expectations of gain of a player in every situation,\n",
    "        # that is to say, whatever his score is (index i) and whatever his opponent's\n",
    "        # score is (index j)\n",
    "        self.MEG = np.ones((self.N+6*self.D,self.N+6*self.D))*np.inf\n",
    "        self.MEG[self.N:,:] = 1\n",
    "        self.MEG[:self.N,self.N:] = -1\n",
    "        \n",
    "        # star will contain the optimal responses of the players, the responses that maximizes \n",
    "        # the expaectation of gain in every situation\n",
    "        self.star = np.zeros((self.N,self.N)).astype('int')\n",
    "        # emptyE is True if the MEG matrice has not already been computed, False otherwise\n",
    "        self.emptyE = True\n",
    "\n",
    "        \n",
    "    # ********************* ONE TURN GAME *********************\n",
    "\n",
    "    def eg1(self,d1,d2):\n",
    "        \"\"\"\n",
    "        integer*integer -> float\n",
    "        input : player 1 throws d1 dices and player 2 d2 dices in a one turn game\n",
    "        output : the expectation of gain of player 1\n",
    "        \"\"\"\n",
    "        res = 0\n",
    "        # probability tha player 1 gets more points than player 2\n",
    "        for k in range(1,6*d1+1):\n",
    "            temp = 0\n",
    "            for l in range(1,k):\n",
    "                temp += self.P(d2,l)\n",
    "            res += self.P(d1,k)*temp\n",
    "        # we substract the probaility that player 2 gets more points than player 1\n",
    "        for k in range(1,6*d2+1):\n",
    "            temp = 0\n",
    "            for l in range(1,k):\n",
    "                temp += self.P(d1,l)\n",
    "            res -= self.P(d2,k)*temp\n",
    "        return res\n",
    "   \n",
    "    def gain_matrix(self):\n",
    "        \"\"\"\n",
    "        returns the matrice of the expectations of gain of player 1 \n",
    "        \"\"\"\n",
    "        M = np.zeros((self.D,self.D))\n",
    "        for i in range(self.D):\n",
    "            for j in range(self.D):\n",
    "                M[i,j] = self.eg1(i+1,j+1)\n",
    "        return M\n",
    "    \n",
    "    def solve_pl(self):\n",
    "        \"\"\"\n",
    "        returns the vector p = [p1,...,pD] corresponding to the strategy of player 1\n",
    "        player 1 throws d dices with probability pd\n",
    "        (see above for the linear program)\n",
    "        \"\"\"\n",
    "        prob = LpProblem(\"Linear Program\", LpMaximize) \n",
    "        # creation of p1,...,pD variables\n",
    "        var = [LpVariable(\"p%d\" % i, lowBound=0, cat='Continuous') for i in range(1,self.D+1)]\n",
    "\n",
    "        # the objective function is th sum of the variables p1,...,pD\n",
    "        prob += lpSum(var)  \n",
    "        \n",
    "        eg = self.gain_matrix()\n",
    "        # for each column of eg, add the constraint transpose(p)*eg_column <= 0\n",
    "        for j in range(self.D): \n",
    "            l = []\n",
    "            for i in range(self.D):\n",
    "                l.append(-var[i]*eg[i,j])\n",
    "            prob += lpSum(l) <= 0\n",
    "        \n",
    "        # add the constraint that the sum of pi is equal to 1 (probabilities)\n",
    "        prob += lpSum(var) == 1  \n",
    "\n",
    "        # compute\n",
    "        prob.solve()\n",
    "        prob.writeLP(\"prob\")\n",
    "        \n",
    "        # get the solution (rounded to 7 decimals)\n",
    "        p = []\n",
    "        for v in var:\n",
    "            p.append(v.varValue)\n",
    "        return np.around(np.array(p),7)\n",
    "    \n",
    "    def pl_strategy(self,i,j): \n",
    "        \"\"\"\n",
    "        integer*integer -> integer\n",
    "        input : state (i,j) that corresponds to the situation where the player 1\n",
    "                have i points, player 2 have j points\n",
    "        output : the best choice of d according to the linear program\n",
    "        \"\"\"\n",
    "        # if the vector p has not already been computed\n",
    "        if self.clear:\n",
    "            self.p = self.solve_pl().cumsum()\n",
    "            self.clear = False\n",
    "        # returns \n",
    "        r = random.random()\n",
    "        d = 0\n",
    "        while r > self.p[d]:\n",
    "            d += 1\n",
    "        return d+1\n",
    "    \n",
    "    \n",
    "    # ********************* GENERAL GAME *********************\n",
    "    \n",
    "    def egg(self,i,j):\n",
    "        \"\"\"\n",
    "        calculation of the expactation of gain of player 1 in a situation (i,j) \n",
    "        while considering all the possible draws for himself and his opponent\n",
    "        \"\"\"\n",
    "        # returns directly the value if it has already been calculated\n",
    "        if self.MEG[i,j] != np.inf:\n",
    "            return self.MEG[i,j]\n",
    "\n",
    "        monesp = -1\n",
    "        coupintelligent = 1\n",
    "        for d1 in range (1,self.D+1):\n",
    "            maxpertes = 1\n",
    "            # look for the expectation of gain of the opponent assuming that I play d1 dices\n",
    "            for d2 in range (1,self.D+1):\n",
    "                sonesp = np.sum(self.MP[d1,1:6*self.D+1].reshape(6*self.D,1)*self.MP[d2,1:6*self.D+1] * self.MEG[i+1:i+1+6*self.D,j+1:j+1+6*self.D]) \n",
    "                maxpertes = min(maxpertes,sonesp)\n",
    "            # choose the number of dices that maximize his loss\n",
    "            if (monesp < maxpertes):\n",
    "                monesp = maxpertes\n",
    "                coupintelligent = d1\n",
    "        # complete the matrices\n",
    "        self.MEG[i,j] = monesp\n",
    "        self.star[i,j] = coupintelligent\n",
    "        return self.MEG[i,j]    \n",
    "    \n",
    "    def allEggs(self):\n",
    "        \"\"\"\n",
    "        compute the egg matrice\n",
    "        \"\"\"\n",
    "        self.allP()                                            \n",
    "        for i in range(self.N-1,-1,-1): \n",
    "            for j in range(self.N-1,-1,-1):\n",
    "                self.egg(i,j)                                                         \n",
    "                    \n",
    "    def simoptimal_strategy(self,i,j):\n",
    "        \"\"\" Prendre sa décision. \"\"\"\n",
    "        # if the matrice egg has not already been computed\n",
    "        if self.emptyE:                                        \n",
    "            self.allEggs()                              \n",
    "            self.emptyE = False\n",
    "        if i==self.N-1 and j==self.N-1: return 1                \n",
    "        return self.star[i,j]                                 "
   ]
  },
  {
   "cell_type": "markdown",
   "metadata": {},
   "source": [
    "## >>> _Game Simulation_"
   ]
  },
  {
   "cell_type": "markdown",
   "metadata": {},
   "source": [
    "Methods that allows us to play a sequential game (method seqgame) and a simultaneous game (method simgame)."
   ]
  },
  {
   "cell_type": "code",
   "execution_count": 6,
   "metadata": {},
   "outputs": [],
   "source": [
    "def throw(d):\n",
    "    \"\"\"\n",
    "    integer -> integer\n",
    "    input : the number d of dicesthat will be thrown\n",
    "    output : the result according to the rules of the game\n",
    "    \"\"\"\n",
    "    r = np.random.randint(1,6,d)\n",
    "    # if the result of one of the dices is 1\n",
    "    if (r == 1).sum() >= 1: return 1\n",
    "    # else, return the sum of the dices\n",
    "    else: return np.sum(r)\n",
    "\n",
    "def seqgame(strat1, strat2, verbose = True, interact = False):\n",
    "    \"\"\"\n",
    "    _ play a sequential game between a player using 'strat1' strategy and a seconf player\n",
    "    using 'strat2' strategy\n",
    "    _ if 'verbose' = True, display comments\n",
    "    _ if 'interact' = True, we can play against the computer using the input function\n",
    "    WARNING : N is a global variable here\n",
    "    \"\"\"\n",
    "    if interact:\n",
    "        role = input(\"Which player would you like to be ?  \")\n",
    "    score1 = 0\n",
    "    score2 = 0\n",
    "    round = 1\n",
    "    # while no one has won\n",
    "    while score1 < N and score2 < N:                                      \n",
    "        if verbose:\n",
    "            print(\"\\nROUND\", round, \"\\t\", score1, \"to\", score2)           \n",
    "            print(\"=======================\")\n",
    "        if interact and int(role) == 1: \n",
    "            choix1 = input(\"Choose your warriors.  \")\n",
    "        else : choix1 = strat1(score1, score2)                            \n",
    "        add1 = throw(int(choix1))                                        \n",
    "        score1 += add1                                                     \n",
    "        if verbose:                              \n",
    "            print(\"Player 1 throws\", choix1, \"dice\")\n",
    "            print(\" >>> Player 1 scores\", add1)\n",
    "        # continue the game, unless player 1 has already won\n",
    "        if score1 < N:                                                   \n",
    "            if interact and int(role) == 2: \n",
    "                choix2 = input(\"Choose your warriors.  \")\n",
    "            else: choix2 = strat2(score2, score1)                           \n",
    "            add2 = throw(int(choix2))                                     \n",
    "            score2 += add2 \n",
    "            if verbose:\n",
    "                print(\"Player 2 throws\", choix2, \"dice\")   \n",
    "                print(\" >>> Player 2 scores\", add2)\n",
    "        round += 1\n",
    "    if verbose: print(\"\\n! FINAL SCORE\", score1, \"to\", score2, \"!\")       \n",
    "    # return 1 or 0 to make the calculation of the winrate easier\n",
    "    if score1 >= N:                                                  \n",
    "        if verbose: print(\"Player 1 wins !\")\n",
    "        return 1                                                          \n",
    "    else:\n",
    "        if verbose: print(\"Player 2 wins !\")\n",
    "        return 0\n",
    "        \n",
    "def simgame(strat1, strat2, verbose = True, interact = False, oneround = True):\n",
    "    \"\"\"\n",
    "    _ play a simultaneous game between a player using 'strat1' strategy and a seconf player\n",
    "    using 'strat2' strategy\n",
    "    _ if 'verbose' = True, display comments\n",
    "    _ if 'interact' = True, we can play against the computer using the input function\n",
    "    _ if 'oneround' = True, play a one round game\n",
    "    WARNING : N is a global variable here\n",
    "    \"\"\"\n",
    "    if interact:\n",
    "        role = input(\"Which player would you like to be ?  \")\n",
    "    score1 = 0\n",
    "    score2 = 0\n",
    "    round = 1\n",
    "    # while no one has won\n",
    "    while score1 < N and score2 < N:                                       \n",
    "        if verbose:\n",
    "            print(\"\\nROUND\", round, \"\\t\", score1, \"to\", score2)            \n",
    "            print(\"=======================\")\n",
    "        if interact and int(role) == 1: \n",
    "            choix1 = input(\"Choose your warriors.  \")\n",
    "        else : choix1 = strat1(score1, score2)                             \n",
    "        add1 = throw(int(choix1))                                          \n",
    "        oldscore1 = score1                                                 \n",
    "        score1 += add1                                                     \n",
    "        if interact and int(role) == 2: \n",
    "            choix2 = input(\"Choose your warriors.  \")\n",
    "        else: choix2 = strat2(score2, oldscore1)                           \n",
    "        add2 = throw(int(choix2))                                          \n",
    "        score2 += add2 \n",
    "        if verbose:                      \n",
    "            print(\"Player 1 threw\", choix1, \"dice\")\n",
    "            print(\" >>> Player 1 scored\", add1)\n",
    "            print(\"Player 2 threw\", choix2, \"dice\")   \n",
    "            print(\" >>> Player 2 scored\", add2)\n",
    "        round += 1\n",
    "        if oneround: break                                                 \n",
    "    if verbose: print(\"\\n! FINAL SCORE\", score1, \"to\", score2, \"!\")\n",
    "    # return 1 or 0 to make the calculation of the winrate easier\n",
    "    # when they are tied, it is counted as a victory\n",
    "    if score1 > score2:                                                  \n",
    "        if verbose: print(\"Player 1 wins !\")\n",
    "        return 1                                                          \n",
    "    elif score1 < score2:\n",
    "        if verbose: print(\"Player 2 wins !\")\n",
    "        return 0\n",
    "    else:\n",
    "        if verbose: print(\"Erm... Pat ?\")\n",
    "        return 1"
   ]
  },
  {
   "cell_type": "markdown",
   "metadata": {},
   "source": [
    "## >>> _Sequential Game example_"
   ]
  },
  {
   "cell_type": "markdown",
   "metadata": {},
   "source": [
    "**Without interaction**"
   ]
  },
  {
   "cell_type": "code",
   "execution_count": 7,
   "metadata": {},
   "outputs": [
    {
     "name": "stdout",
     "output_type": "stream",
     "text": [
      "What is the goal to reach ?  100\n",
      "How many dice are my friend and I allowed to use ?  10\n",
      "A game starts with 10 dice below. Whichever player reaches 100 points first wins.\n",
      "\n",
      "ROUND 1 \t 0 to 0\n",
      "=======================\n",
      "Player 1 throws 6 dice\n",
      " >>> Player 1 scores 1\n",
      "Player 2 throws 6 dice\n",
      " >>> Player 2 scores 20\n",
      "\n",
      "ROUND 2 \t 1 to 20\n",
      "=======================\n",
      "Player 1 throws 6 dice\n",
      " >>> Player 1 scores 1\n",
      "Player 2 throws 5 dice\n",
      " >>> Player 2 scores 17\n",
      "\n",
      "ROUND 3 \t 2 to 37\n",
      "=======================\n",
      "Player 1 throws 7 dice\n",
      " >>> Player 1 scores 1\n",
      "Player 2 throws 5 dice\n",
      " >>> Player 2 scores 16\n",
      "\n",
      "ROUND 4 \t 3 to 53\n",
      "=======================\n",
      "Player 1 throws 7 dice\n",
      " >>> Player 1 scores 29\n",
      "Player 2 throws 5 dice\n",
      " >>> Player 2 scores 17\n",
      "\n",
      "ROUND 5 \t 32 to 70\n",
      "=======================\n",
      "Player 1 throws 8 dice\n",
      " >>> Player 1 scores 1\n",
      "Player 2 throws 4 dice\n",
      " >>> Player 2 scores 12\n",
      "\n",
      "ROUND 6 \t 33 to 82\n",
      "=======================\n",
      "Player 1 throws 9 dice\n",
      " >>> Player 1 scores 1\n",
      "Player 2 throws 4 dice\n",
      " >>> Player 2 scores 1\n",
      "\n",
      "ROUND 7 \t 34 to 83\n",
      "=======================\n",
      "Player 1 throws 9 dice\n",
      " >>> Player 1 scores 1\n",
      "Player 2 throws 4 dice\n",
      " >>> Player 2 scores 1\n",
      "\n",
      "ROUND 8 \t 35 to 84\n",
      "=======================\n",
      "Player 1 throws 9 dice\n",
      " >>> Player 1 scores 1\n",
      "Player 2 throws 4 dice\n",
      " >>> Player 2 scores 14\n",
      "\n",
      "ROUND 9 \t 36 to 98\n",
      "=======================\n",
      "Player 1 throws 10 dice\n",
      " >>> Player 1 scores 1\n",
      "Player 2 throws 7 dice\n",
      " >>> Player 2 scores 26\n",
      "\n",
      "! FINAL SCORE 37 to 124 !\n",
      "Player 2 wins !\n"
     ]
    },
    {
     "data": {
      "text/plain": [
       "0"
      ]
     },
     "execution_count": 7,
     "metadata": {},
     "output_type": "execute_result"
    }
   ],
   "source": [
    "N = int(input(\"What is the goal to reach ?  \"))\n",
    "D = int(input(\"How many dice are my friend and I allowed to use ?  \"))\n",
    "seq = Sequential(N,D) \n",
    "print(\"A game starts with\", D, \"dice below. Whichever player reaches\", N, \"points first wins.\")\n",
    "seqgame(seq.optimal_strategy, seq.optimal_strategy)"
   ]
  },
  {
   "cell_type": "markdown",
   "metadata": {},
   "source": [
    "**With interaction**"
   ]
  },
  {
   "cell_type": "code",
   "execution_count": 9,
   "metadata": {},
   "outputs": [
    {
     "name": "stdout",
     "output_type": "stream",
     "text": [
      "Which player would you like to be ?  1\n",
      "\n",
      "ROUND 1 \t 0 to 0\n",
      "=======================\n",
      "Choose your warriors.  3\n",
      "Player 1 throws 3 dice\n",
      " >>> Player 1 scores 1\n",
      "Player 2 throws 6 dice\n",
      " >>> Player 2 scores 1\n",
      "\n",
      "ROUND 2 \t 1 to 1\n",
      "=======================\n",
      "Choose your warriors.  2\n",
      "Player 1 throws 2 dice\n",
      " >>> Player 1 scores 1\n",
      "Player 2 throws 6 dice\n",
      " >>> Player 2 scores 1\n",
      "\n",
      "ROUND 3 \t 2 to 2\n",
      "=======================\n",
      "Choose your warriors.  1\n",
      "Player 1 throws 1 dice\n",
      " >>> Player 1 scores 3\n",
      "Player 2 throws 6 dice\n",
      " >>> Player 2 scores 1\n",
      "\n",
      "ROUND 4 \t 5 to 3\n",
      "=======================\n",
      "Choose your warriors.  2\n",
      "Player 1 throws 2 dice\n",
      " >>> Player 1 scores 7\n",
      "Player 2 throws 6 dice\n",
      " >>> Player 2 scores 23\n",
      "\n",
      "ROUND 5 \t 12 to 26\n",
      "=======================\n",
      "Choose your warriors.  2\n",
      "Player 1 throws 2 dice\n",
      " >>> Player 1 scores 7\n",
      "Player 2 throws 6 dice\n",
      " >>> Player 2 scores 1\n",
      "\n",
      "ROUND 6 \t 19 to 27\n",
      "=======================\n",
      "Choose your warriors.  2\n",
      "Player 1 throws 2 dice\n",
      " >>> Player 1 scores 1\n",
      "Player 2 throws 6 dice\n",
      " >>> Player 2 scores 1\n",
      "\n",
      "ROUND 7 \t 20 to 28\n",
      "=======================\n",
      "Choose your warriors.  3\n",
      "Player 1 throws 3 dice\n",
      " >>> Player 1 scores 14\n",
      "Player 2 throws 6 dice\n",
      " >>> Player 2 scores 20\n",
      "\n",
      "ROUND 8 \t 34 to 48\n",
      "=======================\n",
      "Choose your warriors.  3\n",
      "Player 1 throws 3 dice\n",
      " >>> Player 1 scores 1\n",
      "Player 2 throws 5 dice\n",
      " >>> Player 2 scores 1\n",
      "\n",
      "ROUND 9 \t 35 to 49\n",
      "=======================\n",
      "Choose your warriors.  3\n",
      "Player 1 throws 3 dice\n",
      " >>> Player 1 scores 1\n",
      "Player 2 throws 5 dice\n",
      " >>> Player 2 scores 1\n",
      "\n",
      "ROUND 10 \t 36 to 50\n",
      "=======================\n",
      "Choose your warriors.  4\n",
      "Player 1 throws 4 dice\n",
      " >>> Player 1 scores 10\n",
      "Player 2 throws 6 dice\n",
      " >>> Player 2 scores 1\n",
      "\n",
      "ROUND 11 \t 46 to 51\n",
      "=======================\n",
      "Choose your warriors.  5\n",
      "Player 1 throws 5 dice\n",
      " >>> Player 1 scores 1\n",
      "Player 2 throws 6 dice\n",
      " >>> Player 2 scores 1\n",
      "\n",
      "ROUND 12 \t 47 to 52\n",
      "=======================\n",
      "Choose your warriors.  4\n",
      "Player 1 throws 4 dice\n",
      " >>> Player 1 scores 18\n",
      "Player 2 throws 6 dice\n",
      " >>> Player 2 scores 1\n",
      "\n",
      "ROUND 13 \t 65 to 53\n",
      "=======================\n",
      "Choose your warriors.  4\n",
      "Player 1 throws 4 dice\n",
      " >>> Player 1 scores 1\n",
      "Player 2 throws 6 dice\n",
      " >>> Player 2 scores 1\n",
      "\n",
      "ROUND 14 \t 66 to 54\n",
      "=======================\n",
      "Choose your warriors.  4\n",
      "Player 1 throws 4 dice\n",
      " >>> Player 1 scores 13\n",
      "Player 2 throws 7 dice\n",
      " >>> Player 2 scores 24\n",
      "\n",
      "ROUND 15 \t 79 to 78\n",
      "=======================\n",
      "Choose your warriors.  4\n",
      "Player 1 throws 4 dice\n",
      " >>> Player 1 scores 15\n",
      "Player 2 throws 6 dice\n",
      " >>> Player 2 scores 19\n",
      "\n",
      "ROUND 16 \t 94 to 97\n",
      "=======================\n",
      "Choose your warriors.  4\n",
      "Player 1 throws 4 dice\n",
      " >>> Player 1 scores 1\n",
      "Player 2 throws 2 dice\n",
      " >>> Player 2 scores 7\n",
      "\n",
      "! FINAL SCORE 95 to 104 !\n",
      "Player 2 wins !\n"
     ]
    },
    {
     "data": {
      "text/plain": [
       "0"
      ]
     },
     "execution_count": 9,
     "metadata": {},
     "output_type": "execute_result"
    }
   ],
   "source": [
    "seqgame(seq.optimal_strategy, seq.optimal_strategy, interact = True)"
   ]
  },
  {
   "cell_type": "markdown",
   "metadata": {},
   "source": [
    "## >>> _Simultaneous Game example_"
   ]
  },
  {
   "cell_type": "markdown",
   "metadata": {},
   "source": [
    "**One round game**"
   ]
  },
  {
   "cell_type": "code",
   "execution_count": 10,
   "metadata": {},
   "outputs": [
    {
     "name": "stdout",
     "output_type": "stream",
     "text": [
      "\n",
      "ROUND 1 \t 0 to 0\n",
      "=======================\n",
      "Player 1 threw 5 dice\n",
      " >>> Player 1 scored 1\n",
      "Player 2 threw 6 dice\n",
      " >>> Player 2 scored 1\n",
      "\n",
      "! FINAL SCORE 1 to 1 !\n",
      "Erm... Pat ?\n"
     ]
    },
    {
     "data": {
      "text/plain": [
       "1"
      ]
     },
     "execution_count": 10,
     "metadata": {},
     "output_type": "execute_result"
    }
   ],
   "source": [
    "sim = Simultaneous(N,D) \n",
    "simgame(sim.pl_strategy, seq.blind_strategy) # WARNING ! recovery of the blind strategy in the Sequential game"
   ]
  },
  {
   "cell_type": "markdown",
   "metadata": {},
   "source": [
    "**General game**"
   ]
  },
  {
   "cell_type": "code",
   "execution_count": null,
   "metadata": {},
   "outputs": [],
   "source": [
    "simgame(sim.simoptimal_strategy, sim.simoptimal_strategy, oneround = False)"
   ]
  },
  {
   "cell_type": "markdown",
   "metadata": {},
   "source": [
    "**General game with interaction**"
   ]
  },
  {
   "cell_type": "code",
   "execution_count": 11,
   "metadata": {},
   "outputs": [
    {
     "name": "stdout",
     "output_type": "stream",
     "text": [
      "Which player would you like to be ?  1\n",
      "\n",
      "ROUND 1 \t 0 to 0\n",
      "=======================\n",
      "Choose your warriors.  3\n",
      "Player 1 threw 3 dice\n",
      " >>> Player 1 scored 1\n",
      "Player 2 threw 6 dice\n",
      " >>> Player 2 scored 1\n",
      "\n",
      "ROUND 2 \t 1 to 1\n",
      "=======================\n",
      "Choose your warriors.  5\n",
      "Player 1 threw 5 dice\n",
      " >>> Player 1 scored 1\n",
      "Player 2 threw 6 dice\n",
      " >>> Player 2 scored 1\n",
      "\n",
      "ROUND 3 \t 2 to 2\n",
      "=======================\n",
      "Choose your warriors.  4\n",
      "Player 1 threw 4 dice\n",
      " >>> Player 1 scored 12\n",
      "Player 2 threw 6 dice\n",
      " >>> Player 2 scored 20\n",
      "\n",
      "ROUND 4 \t 14 to 22\n",
      "=======================\n",
      "Choose your warriors.  4\n",
      "Player 1 threw 4 dice\n",
      " >>> Player 1 scored 1\n",
      "Player 2 threw 6 dice\n",
      " >>> Player 2 scored 1\n",
      "\n",
      "ROUND 5 \t 15 to 23\n",
      "=======================\n",
      "Choose your warriors.  3\n",
      "Player 1 threw 3 dice\n",
      " >>> Player 1 scored 10\n",
      "Player 2 threw 6 dice\n",
      " >>> Player 2 scored 1\n",
      "\n",
      "ROUND 6 \t 25 to 24\n",
      "=======================\n",
      "Choose your warriors.  4\n",
      "Player 1 threw 4 dice\n",
      " >>> Player 1 scored 13\n",
      "Player 2 threw 6 dice\n",
      " >>> Player 2 scored 1\n",
      "\n",
      "ROUND 7 \t 38 to 25\n",
      "=======================\n",
      "Choose your warriors.  5\n",
      "Player 1 threw 5 dice\n",
      " >>> Player 1 scored 1\n",
      "Player 2 threw 7 dice\n",
      " >>> Player 2 scored 1\n",
      "\n",
      "ROUND 8 \t 39 to 26\n",
      "=======================\n",
      "Choose your warriors.  4\n",
      "Player 1 threw 4 dice\n",
      " >>> Player 1 scored 16\n",
      "Player 2 threw 7 dice\n",
      " >>> Player 2 scored 1\n",
      "\n",
      "ROUND 9 \t 55 to 27\n",
      "=======================\n",
      "Choose your warriors.  5\n",
      "Player 1 threw 5 dice\n",
      " >>> Player 1 scored 1\n",
      "Player 2 threw 8 dice\n",
      " >>> Player 2 scored 1\n",
      "\n",
      "ROUND 10 \t 56 to 28\n",
      "=======================\n",
      "Choose your warriors.  4\n",
      "Player 1 threw 4 dice\n",
      " >>> Player 1 scored 1\n",
      "Player 2 threw 8 dice\n",
      " >>> Player 2 scored 1\n",
      "\n",
      "ROUND 11 \t 57 to 29\n",
      "=======================\n",
      "Choose your warriors.  3\n",
      "Player 1 threw 3 dice\n",
      " >>> Player 1 scored 15\n",
      "Player 2 threw 8 dice\n",
      " >>> Player 2 scored 1\n",
      "\n",
      "ROUND 12 \t 72 to 30\n",
      "=======================\n",
      "Choose your warriors.  4\n",
      "Player 1 threw 4 dice\n",
      " >>> Player 1 scored 1\n",
      "Player 2 threw 9 dice\n",
      " >>> Player 2 scored 1\n",
      "\n",
      "ROUND 13 \t 73 to 31\n",
      "=======================\n",
      "Choose your warriors.  3\n",
      "Player 1 threw 3 dice\n",
      " >>> Player 1 scored 11\n",
      "Player 2 threw 9 dice\n",
      " >>> Player 2 scored 1\n",
      "\n",
      "ROUND 14 \t 84 to 32\n",
      "=======================\n",
      "Choose your warriors.  4\n",
      "Player 1 threw 4 dice\n",
      " >>> Player 1 scored 1\n",
      "Player 2 threw 10 dice\n",
      " >>> Player 2 scored 1\n",
      "\n",
      "ROUND 15 \t 85 to 33\n",
      "=======================\n",
      "Choose your warriors.  3\n",
      "Player 1 threw 3 dice\n",
      " >>> Player 1 scored 1\n",
      "Player 2 threw 10 dice\n",
      " >>> Player 2 scored 1\n",
      "\n",
      "ROUND 16 \t 86 to 34\n",
      "=======================\n",
      "Choose your warriors.  2\n",
      "Player 1 threw 2 dice\n",
      " >>> Player 1 scored 1\n",
      "Player 2 threw 10 dice\n",
      " >>> Player 2 scored 1\n",
      "\n",
      "ROUND 17 \t 87 to 35\n",
      "=======================\n",
      "Choose your warriors.  1\n",
      "Player 1 threw 1 dice\n",
      " >>> Player 1 scored 3\n",
      "Player 2 threw 9 dice\n",
      " >>> Player 2 scored 1\n",
      "\n",
      "ROUND 18 \t 90 to 36\n",
      "=======================\n",
      "Choose your warriors.  2\n",
      "Player 1 threw 2 dice\n",
      " >>> Player 1 scored 9\n",
      "Player 2 threw 10 dice\n",
      " >>> Player 2 scored 1\n",
      "\n",
      "ROUND 19 \t 99 to 37\n",
      "=======================\n",
      "Choose your warriors.  1\n",
      "Player 1 threw 1 dice\n",
      " >>> Player 1 scored 4\n",
      "Player 2 threw 1 dice\n",
      " >>> Player 2 scored 5\n",
      "\n",
      "! FINAL SCORE 103 to 42 !\n",
      "Player 1 wins !\n"
     ]
    },
    {
     "data": {
      "text/plain": [
       "1"
      ]
     },
     "execution_count": 11,
     "metadata": {},
     "output_type": "execute_result"
    }
   ],
   "source": [
    "simgame(sim.simoptimal_strategy, sim.simoptimal_strategy, interact = True, oneround = False)"
   ]
  },
  {
   "cell_type": "markdown",
   "metadata": {},
   "source": [
    "## >>> _Statistical Tests_"
   ]
  },
  {
   "cell_type": "code",
   "execution_count": 13,
   "metadata": {},
   "outputs": [],
   "source": [
    "# communal variables for all the tests : play nb_games games\n",
    "# ns and ds are used for x-axis of the graphs\n",
    "nb_games = 10000\n",
    "ns = np.arange(20, 220, 20)\n",
    "ds = np.arange(2,22,2)"
   ]
  },
  {
   "cell_type": "markdown",
   "metadata": {},
   "source": [
    "### Sequential game"
   ]
  },
  {
   "cell_type": "markdown",
   "metadata": {},
   "source": [
    "**Variation of the goal N with the maximum number of dices D fixed.**"
   ]
  },
  {
   "cell_type": "code",
   "execution_count": 14,
   "metadata": {},
   "outputs": [],
   "source": [
    "# blind vs blind : sequential game\n",
    "winrates_n_bb = np.zeros((10))\n",
    "winrates_d_bb = np.zeros((10))\n",
    "# optimal vs optimal : sequential game\n",
    "winrates_n_oo = np.zeros((10))\n",
    "winrates_d_oo = np.zeros((10))\n",
    "# optimal vs blind : sequential game\n",
    "winrates_n_ob = np.zeros((10))\n",
    "winrates_d_ob = np.zeros((10))\n",
    "# blind against optimal : sequential game\n",
    "winrates_n_bo = np.zeros((10))\n",
    "winrates_d_bo = np.zeros((10))"
   ]
  },
  {
   "cell_type": "code",
   "execution_count": 16,
   "metadata": {},
   "outputs": [
    {
     "data": {
      "image/png": "[encoded data removed]",
      "text/plain": [
       "<Figure size 432x288 with 1 Axes>"
      ]
     },
     "metadata": {
      "needs_background": "light"
     },
     "output_type": "display_data"
    }
   ],
   "source": [
    "for n in range (20,220,20):\n",
    "    N = n     # WARNING : N is a global variable for seqgame and simgame\n",
    "    seq = Sequential(n,10)\n",
    "    resbb = np.sum(np.array([seqgame(seq.blind_strategy,seq.blind_strategy,False) for i in range(nb_games)]))\n",
    "    resoo = np.sum(np.array([seqgame(seq.optimal_strategy,seq.optimal_strategy,False) for i in range(nb_games)]))\n",
    "    resob = np.sum(np.array([seqgame(seq.optimal_strategy,seq.blind_strategy,False) for i in range(nb_games)]))\n",
    "    resbo = np.sum(np.array([seqgame(seq.blind_strategy,seq.optimal_strategy,False) for i in range(nb_games)]))\n",
    "    winrates_n_bb[int((n-20)/20)] = resbb/nb_games\n",
    "    winrates_n_oo[int((n-20)/20)] = resoo/nb_games\n",
    "    winrates_n_ob[int((n-20)/20)] = resob/nb_games\n",
    "    winrates_n_bo[int((n-20)/20)] = resbo/nb_games\n",
    "    \n",
    "plt.figure()\n",
    "plt.plot(ns, winrates_n_bb, 'c--', ns, winrates_n_oo, 'b--', ns, winrates_n_ob, 'g--', ns, winrates_n_bo, 'y--', ns, np.full(ns.shape,0.5),'k')\n",
    "plt.show()"
   ]
  },
  {
   "cell_type": "markdown",
   "metadata": {},
   "source": [
    "x-axis : variation of the goal N, ",
    "y-axis : percentage of victory of player 1, ",
    "light blue : blind vs blind, ",
    "dark blue : optimal vs optimal, ",
    "green : optimal vs blind, ",
    "yellow : blind against optimal, ",
    "black : line at y = 0.5 (to help the analysis of the graph)",
    "\n",
    "When the players choose the same strategy, the first player has more victories (+4% in the expectation of gain on average) : in the sequential game the first player has indeed an advantage. The optimal strategy accentuate this advantage (+7%) when it plays first against the blind strategy."
   ]
  },
  {
   "cell_type": "markdown",
   "metadata": {},
   "source": [
    "**Variation of the maximum number of dices D with the goal N fixed.**"
   ]
  },
  {
   "cell_type": "code",
   "execution_count": 17,
   "metadata": {},
   "outputs": [
    {
     "data": {
      "image/png": "[encoded data removed]",
      "text/plain": [
       "<Figure size 432x288 with 1 Axes>"
      ]
     },
     "metadata": {
      "needs_background": "light"
     },
     "output_type": "display_data"
    }
   ],
   "source": [
    "N = 100\n",
    "for d in range (2,22,2):\n",
    "    seq = Sequential(N,d)\n",
    "    resbb = np.sum(np.array([seqgame(seq.blind_strategy,seq.blind_strategy,False) for i in range(nb_games)]))\n",
    "    resoo = np.sum(np.array([seqgame(seq.optimal_strategy,seq.optimal_strategy,False) for i in range(nb_games)]))\n",
    "    resob = np.sum(np.array([seqgame(seq.optimal_strategy,seq.blind_strategy,False) for i in range(nb_games)]))\n",
    "    resbo = np.sum(np.array([seqgame(seq.blind_strategy,seq.optimal_strategy,False) for i in range(nb_games)]))\n",
    "    winrates_d_bb[int((d-2)/2)] = resbb/nb_games\n",
    "    winrates_d_oo[int((d-2)/2)] = resoo/nb_games\n",
    "    winrates_d_ob[int((d-2)/2)] = resob/nb_games\n",
    "    winrates_d_bo[int((d-2)/2)] = resbo/nb_games\n",
    "\n",
    "plt.figure()\n",
    "plt.plot(ds, winrates_d_bb, 'c--', ds, winrates_d_oo, 'b--', ds, winrates_d_ob, 'g--', ds, winrates_d_bo, 'y--', ds, np.full(ns.shape,0.5),'k')\n",
    "plt.show()"
   ]
  },
  {
   "cell_type": "markdown",
   "metadata": {},
   "source": [
    "x-axis : variation of the maximum number of dices D\\\n",
    "y-axis : percentage of victory of player 1\\\n",
    "light blue : blind vs blind\\\n",
    "dark blue : optimal vs optimal\\\n",
    "green : optimal vs blind_\n",
    "yellow : blind against optimal\\\n",
    "black : line at y = 0.5 (to help the analysis of the graph)"
   ]
  },
  {
   "cell_type": "markdown",
   "metadata": {},
   "source": [
    "**Tests with random strategy**"
   ]
  },
  {
   "cell_type": "code",
   "execution_count": 18,
   "metadata": {},
   "outputs": [
    {
     "data": {
      "image/png": "[encoded data removed]",
      "text/plain": [
       "<Figure size 432x288 with 1 Axes>"
      ]
     },
     "metadata": {
      "needs_background": "light"
     },
     "output_type": "display_data"
    }
   ],
   "source": [
    "# random vs blind : sequential game\n",
    "winrates_n_ab = np.zeros((10))\n",
    "winrates_d_ab = np.zeros((10))\n",
    "# random vs optimal : sequential game\n",
    "winrates_n_ao = np.zeros((10))\n",
    "winrates_d_ao = np.zeros((10))\n",
    "    \n",
    "for n in range (20,220,20):\n",
    "    N = n    # WARNING : N is a global variable for seqgame and simgame\n",
    "    seq = Sequential(n,10)\n",
    "    resab = np.sum(np.array([seqgame(seq.random_strategy,seq.blind_strategy,False) for i in range(nb_parties)]))\n",
    "    resao = np.sum(np.array([seqgame(seq.random_strategy,seq.optimal_strategy,False) for i in range(nb_parties)]))\n",
    "    winrates_n_ab[int((n-20)/20)] = resab/nb_parties\n",
    "    winrates_n_ao[int((n-20)/20)] = resao/nb_parties\n",
    "\n",
    "plt.figure()\n",
    "plt.plot(ns, winrates_n_ab, 'r--', ns, winrates_n_ao, 'm--', ns, np.full(ns.shape,0.5),'k')\n",
    "plt.show()"
   ]
  },
  {
   "cell_type": "markdown",
   "metadata": {},
   "source": [
    "x-axis : variation of the goal N\\\n",
    "y-axis : percentage of victory of player 1\\\n",
    "pink : random vs optimal\\\n",
    "red : random vs blind\\\n",
    "black : line at y = 0.5 (to help the analysis of the graph)\n",
    "\n",
    "As we could have expected, the random strategy is not really effective, even when we give him the advantage to be the player 1."
   ]
  },
  {
   "cell_type": "code",
   "execution_count": 19,
   "metadata": {},
   "outputs": [
    {
     "data": {
      "image/png": "[encoded data removed]",
      "text/plain": [
       "<Figure size 432x288 with 1 Axes>"
      ]
     },
     "metadata": {
      "needs_background": "light"
     },
     "output_type": "display_data"
    }
   ],
   "source": [
    "for d in range (2,22,2):\n",
    "    N = 100\n",
    "    seq = Sequential(100,d)\n",
    "    resab = np.sum(np.array([seqgame(seq.random_strategy,seq.blind_strategy,False) for i in range(nb_parties)]))\n",
    "    resao = np.sum(np.array([seqgame(seq.random_strategy,seq.optimal_strategy,False) for i in range(nb_parties)]))\n",
    "    winrates_d_ab[int((d-2)/2)] = resab/nb_parties\n",
    "    winrates_d_ao[int((d-2)/2)] = resao/nb_parties\n",
    "\n",
    "plt.figure()\n",
    "plt.plot(ds, winrates_d_ab, 'r--', ds, winrates_d_ao, 'm--', ds, np.full(ns.shape,0.5),'k')\n",
    "plt.show()"
   ]
  },
  {
   "cell_type": "markdown",
   "metadata": {},
   "source": [
    "x-axis : variation of the maximum number of dices D\\\n",
    "y-axis : percentage of victory of player 1\\\n",
    "pink : random vs optimal\\\n",
    "red : random vs blind\\\n",
    "black : line at y = 0.5 (to help the analysis of the graph)\n",
    "\n",
    "As we could have expected, the random strategy is not really effective, even when we give him the advantage to be the player 1."
   ]
  },
  {
   "cell_type": "markdown",
   "metadata": {},
   "source": [
    "### Simultaneous game"
   ]
  },
  {
   "cell_type": "markdown",
   "metadata": {},
   "source": [
    "**Optimal vs blind**"
   ]
  },
  {
   "cell_type": "code",
   "execution_count": 45,
   "metadata": {},
   "outputs": [
    {
     "data": {
      "image/png": "[encoded data removed]",
      "text/plain": [
       "<Figure size 432x288 with 1 Axes>"
      ]
     },
     "metadata": {
      "needs_background": "light"
     },
     "output_type": "display_data"
    },
    {
     "data": {
      "image/png": "[encoded data removed]",
      "text/plain": [
       "<Figure size 432x288 with 1 Axes>"
      ]
     },
     "metadata": {
      "needs_background": "light"
     },
     "output_type": "display_data"
    }
   ],
   "source": [
    "# Optimale contre aveugle : mode simultané\n",
    "winrates_n_plb = np.zeros((10))\n",
    "winrates_d_plb = np.zeros((10))\n",
    "\n",
    "for n in range (20,220,20):\n",
    "    N = n\n",
    "    seq = Sequential(n,10)\n",
    "    sim = Simultaneous(n,10)\n",
    "    resplb = np.sum(np.array([simgame(sim.pl_strategy,seq.blind_strategy,False) for i in range(nb_parties)]))\n",
    "    winrates_n_plb[int((n-20)/20)] = resplb/nb_parties\n",
    "plt.figure()\n",
    "plt.plot(ns, winrates_n_plb, 'c--', ns, np.full(ns.shape,0.5),'k')\n",
    "plt.show()\n",
    "\n",
    "N = 100\n",
    "for d in range (2,22,2):\n",
    "    seq = Sequential(N,d)\n",
    "    sim = Simultaneous(N,d)\n",
    "    resplb = np.sum(np.array([simgame(sim.pl_strategy,seq.blind_strategy,False) for i in range(nb_parties)]))\n",
    "    winrates_d_plb[int((d-2)/2)] = resplb/nb_parties\n",
    "    \n",
    "plt.figure()\n",
    "plt.plot(ds, winrates_d_plb, 'c--', ds, np.full(ns.shape,0.5),'k')\n",
    "plt.show()"
   ]
  }
 ],
 "metadata": {
  "kernelspec": {
   "display_name": "Python 3",
   "language": "python",
   "name": "python3"
  },
  "language_info": {
   "codemirror_mode": {
    "name": "ipython",
    "version": 3
   },
   "file_extension": ".py",
   "mimetype": "text/x-python",
   "name": "python",
   "nbconvert_exporter": "python",
   "pygments_lexer": "ipython3",
   "version": "3.7.3"
  }
 },
 "nbformat": 4,
 "nbformat_minor": 2
}
